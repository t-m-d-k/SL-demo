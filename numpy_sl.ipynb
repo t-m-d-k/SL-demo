{
 "cells": [
  {
   "cell_type": "markdown",
   "metadata": {
    "id": "8be173f3-d376-4cd2-aafd-8a03442bf197"
   },
   "source": [
    "# __Indexing__"
   ]
  },
  {
   "cell_type": "markdown",
   "metadata": {
    "id": "945c7b02-41f7-4175-aa45-4da0224d383f"
   },
   "source": [
    "## __Agenda__\n",
    "In this lesson, we will explore the following concepts through examples:\n",
    "\n",
    "- NumPy Array Indexing\n",
    "  * Access Elements in the 1D NumPy Array\n",
    "  * Access Elements in the 2D NumPy Array\n",
    "  * Access Elements in 3D NumPy Array\n",
    "  * Negative Indexing"
   ]
  },
  {
   "cell_type": "markdown",
   "metadata": {
    "id": "fefd7806-d1ee-4b07-abbc-67fd92291038"
   },
   "source": [
    "## __1. NumPy Array Indexing__ ##\n",
    "NumPy indexing lets you access an array element with an index value, starting from 0.\n",
    "\n",
    "![link text](https://labcontent.simplicdn.net/data-content/content-assets/Data_and_AI/ADSP_Images/Lesson_03_NumPy/4_Indexing/Image_1.png)"
   ]
  },
  {
   "cell_type": "code",
   "execution_count": null,
   "metadata": {
    "id": "62ac7aec-7869-4cfe-a20f-4e412051d178",
    "tags": []
   },
   "outputs": [],
   "source": [
    "# Creating 1D, 2D, and 3D NumPy arrays\n",
    "import numpy as np\n",
    "array_1d = np.array([1, 2, 3, 4, 5, 6])\n",
    "array_2d = np.array([[1, 2, 3], [4, 5, 6]])\n",
    "array_3d = np.array([[[1, 2, 3], [4, 5, 6]], [[7, 8, 9], [10, 11, 12]]])"
   ]
  },
  {
   "cell_type": "markdown",
   "metadata": {
    "id": "6e849719"
   },
   "source": [
    "The above code creates 1D, 2D, and 3D NumPy arrays with specified elements, providing structured data representations for different dimensions."
   ]
  },
  {
   "cell_type": "markdown",
   "metadata": {
    "id": "6e8bd253-eda8-4f7d-80eb-d4f7b8b1700d"
   },
   "source": [
    "### __1.1 Access Elements in the 1D NumPy Array__ ###"
   ]
  },
  {
   "cell_type": "code",
   "execution_count": null,
   "metadata": {
    "id": "970a318e-7e2f-42e1-9a41-1cf30e032212",
    "outputId": "f50e2896-d6c6-4650-a5d1-45d55f7ff4d3",
    "tags": []
   },
   "outputs": [
    {
     "name": "stdout",
     "output_type": "stream",
     "text": [
      "4\n"
     ]
    }
   ],
   "source": [
    "# Print the value at index 3 of the 1D NumPy array\n",
    "print(array_1d[3])"
   ]
  },
  {
   "cell_type": "markdown",
   "metadata": {
    "id": "cbf7619c"
   },
   "source": [
    "The above code prints the value located at index 3 of a one-dimensional NumPy array."
   ]
  },
  {
   "cell_type": "code",
   "execution_count": null,
   "metadata": {
    "id": "6c58b0e6-00f9-4873-9a54-9161ee262d03",
    "outputId": "935320a4-8a3f-4753-95c9-ca5c25d82761",
    "tags": []
   },
   "outputs": [
    {
     "name": "stdout",
     "output_type": "stream",
     "text": [
      "3\n"
     ]
    }
   ],
   "source": [
    "# Print the sum of the values at indexes 0 and 1 in the 1D NumPy array\n",
    "print(array_1d[1] + array_1d[0])"
   ]
  },
  {
   "cell_type": "markdown",
   "metadata": {
    "id": "a923f9d7"
   },
   "source": [
    "The above code calculates the sum of the values at the first and second indexes of a one-dimensional NumPy array."
   ]
  },
  {
   "cell_type": "markdown",
   "metadata": {
    "id": "d97f78b9-6e30-4410-96e2-cd2ff306cfb2"
   },
   "source": [
    "### __1.2 Access Elements in the 2D NumPy Array__\n",
    "Consider a 2D array as a table, with dimensions representing rows and indexes representing columns.\n",
    "\n",
    "![link text](https://labcontent.simplicdn.net/data-content/content-assets/Data_and_AI/ADSP_Images/Lesson_03_NumPy/4_Indexing/Image_2.png)"
   ]
  },
  {
   "cell_type": "code",
   "execution_count": null,
   "metadata": {
    "id": "0c2c6e40-39df-4aeb-8f8c-31b4d0c477d9",
    "outputId": "70aad54a-fe53-4075-da5b-60296f40f017",
    "tags": []
   },
   "outputs": [
    {
     "name": "stdout",
     "output_type": "stream",
     "text": [
      "Third element in the first row:  3\n"
     ]
    }
   ],
   "source": [
    "# Printing the third element in the first row of the 2D array\n",
    "print('Third element in the first row: ', array_2d[0, 2])"
   ]
  },
  {
   "cell_type": "markdown",
   "metadata": {
    "id": "ca7b9ea5"
   },
   "source": [
    "The above code prints the value located in the first row and third column of a two-dimensional array."
   ]
  },
  {
   "cell_type": "code",
   "execution_count": null,
   "metadata": {
    "id": "944b59fc-7094-461c-9062-0780e42f4bed",
    "outputId": "fefc1efd-6fc9-456e-ff92-df6379953212",
    "tags": []
   },
   "outputs": [
    {
     "name": "stdout",
     "output_type": "stream",
     "text": [
      "Second element in the second row:  5\n"
     ]
    }
   ],
   "source": [
    "# Printing the second element in the second row of the 2D array\n",
    "print('Second element in the second row: ', array_2d[1, 1])"
   ]
  },
  {
   "cell_type": "markdown",
   "metadata": {
    "id": "46bacd57"
   },
   "source": [
    "The above code prints the value located in the second row and second column of a two-dimensional array."
   ]
  },
  {
   "cell_type": "code",
   "execution_count": null,
   "metadata": {
    "id": "4eb108cb-ec1a-43e0-9b96-84ccb85ab992",
    "outputId": "dff29e14-f344-4b44-d066-4f89c58b0618",
    "tags": []
   },
   "outputs": [
    {
     "name": "stdout",
     "output_type": "stream",
     "text": [
      "[[[ 1  2  3]\n",
      "  [ 4  5  6]]\n",
      "\n",
      " [[ 7  8  9]\n",
      "  [10 11 12]]]\n"
     ]
    }
   ],
   "source": [
    "# Print the 3D NumPy array\n",
    "print(array_3d)"
   ]
  },
  {
   "cell_type": "markdown",
   "metadata": {
    "id": "c4a26e4a"
   },
   "source": [
    "The above code prints a 3D NumPy array. The output displays the array's elements organized in a cube-like structure, representing data arranged across three dimensions."
   ]
  },
  {
   "cell_type": "markdown",
   "metadata": {
    "id": "998878bd-d720-4378-ae52-0918e9d4b397"
   },
   "source": [
    "### __1.3 Access Elements in 3D NumPy Array__ ###\n",
    "- [x, y, z] corresponds to the xth element, yth row, and zth column."
   ]
  },
  {
   "cell_type": "code",
   "execution_count": null,
   "metadata": {
    "id": "52de369c-75d3-46b4-8f01-1c83d07ff6cd",
    "outputId": "8c970d65-1163-4a88-9f50-000fa2d84a52",
    "tags": []
   },
   "outputs": [
    {
     "name": "stdout",
     "output_type": "stream",
     "text": [
      "7\n"
     ]
    }
   ],
   "source": [
    "# Print the first element of the first row of the second 2D array within the 3D array\n",
    "print(array_3d[1, 0, 0])"
   ]
  },
  {
   "cell_type": "markdown",
   "metadata": {
    "id": "a5a993d8"
   },
   "source": [
    "The above code prints the value located in the first row and first column of the first matrix within the second set of matrices."
   ]
  },
  {
   "cell_type": "markdown",
   "metadata": {
    "id": "720ef2b2-d7e3-4a45-850c-90d0be17d357"
   },
   "source": [
    "### __1.4 Negative Indexing__\n",
    "\n",
    "- Negative indices count backward from the end of an array.\n",
    "- In a negative indexing system, the last element will be the first element with an index of -1, the second last element with an index of -2, and so on."
   ]
  },
  {
   "cell_type": "code",
   "execution_count": null,
   "metadata": {
    "id": "4a0cb40d-c09a-485c-bb02-12cd74859973",
    "outputId": "f17a7b16-b418-4890-a56b-142217d21a13"
   },
   "outputs": [
    {
     "name": "stdout",
     "output_type": "stream",
     "text": [
      "4\n"
     ]
    }
   ],
   "source": [
    "# Printing the fourth element from the end of the 1D array using negative indexing\n",
    "print(array_1d[-3])"
   ]
  },
  {
   "cell_type": "markdown",
   "metadata": {
    "id": "c704ab30"
   },
   "source": [
    "The above code prints the fourth element from the end of a 1D array. Negative indexing counts elements from the end."
   ]
  },
  {
   "cell_type": "code",
   "execution_count": null,
   "metadata": {
    "id": "145c1d5f-8875-4335-9ce1-98f22bb50a30",
    "outputId": "0d111ef4-31d2-4d39-9fbd-15810c2c0ccf"
   },
   "outputs": [
    {
     "name": "stdout",
     "output_type": "stream",
     "text": [
      "6\n"
     ]
    }
   ],
   "source": [
    "# Printing the last element in the second row of the 2D array using negative indexing\n",
    "print(array_2d[1, -1])"
   ]
  },
  {
   "cell_type": "markdown",
   "metadata": {
    "id": "8998890f"
   },
   "source": [
    "The above code prints the last element in the second row of a 2D array."
   ]
  },
  {
   "cell_type": "code",
   "execution_count": null,
   "metadata": {
    "id": "7f80dcaa-28a6-4c49-97fb-c7b10e21e69f",
    "outputId": "315f3efe-1fcd-4175-f3ed-cd868521fc1c"
   },
   "outputs": [
    {
     "name": "stdout",
     "output_type": "stream",
     "text": [
      "12\n"
     ]
    }
   ],
   "source": [
    "# Printing the last element in the last row of the last 2D array within the 3D array using negative indexing\n",
    "print(array_3d[1, 1, -1])"
   ]
  },
  {
   "cell_type": "markdown",
   "metadata": {
    "id": "1904a939"
   },
   "source": [
    "The above code prints the last element in the last row of the last 2D array within the 3D array using negative indexing."
   ]
  },
  {
   "cell_type": "markdown",
   "metadata": {
    "id": "0862a3aa-8b30-4e99-bf04-c1555516da51"
   },
   "source": [
    "## __Assisted Practice__"
   ]
  },
  {
   "cell_type": "markdown",
   "metadata": {
    "id": "3240eb9f-7c9c-4df4-8955-d91a002899d6"
   },
   "source": [
    "### __Problem Statement:__\n",
    "\n",
    "1. Create a one-dimensional NumPy array containing at least ten elements\n",
    "2. Create a 2D NumPy array with a minimum of 3 rows and 4 columns\n",
    "3. Create a 3D NumPy array with at least 2 matrices, each containing 2 rows and 3 columns\n",
    "4. Access elements in NumPy arrays and utilize indexing and slicing techniques for efficient data retrieval\n",
    "5. Access and print various elements from 1D, 2D, and 3D arrays using positive indexing\n",
    "6. Perform and print some basic arithmetic operations (like addition or  subtraction) using elements accessed from 1D, 2D, and 3D arrays\n",
    "7. Access and print elements using negative indices in all three arrays"
   ]
  },
  {
   "cell_type": "code",
   "execution_count": 1,
   "metadata": {
    "id": "d040ce10-ef60-4c2a-af7b-6e3fca329a5e"
   },
   "outputs": [],
   "source": [
    "import numpy as np\n",
    "\n",
    "# Create a one-dimensional NumPy array containing at least ten elements\n",
    "array_1d = np.array([1, 2, 3, 4, 5, 6, 7, 8, 9, 10])\n",
    "\n",
    "# Create a 2D NumPy array with a minimum of 3 rows and 4 columns\n",
    "array_2d = np.array([[1, 2, 3, 4],\n",
    "                     [5, 6, 7, 8],\n",
    "                     [9, 10, 11, 12]])\n",
    "\n",
    "# Create a 3D NumPy array with at least 2 matrices, each containing 2 rows and 3 columns\n",
    "array_3d = np.array([[[1, 2, 3],\n",
    "                      [4, 5, 6]],\n",
    "                     [[7, 8, 9],\n",
    "                      [10, 11, 12]]])"
   ]
  },
  {
   "cell_type": "code",
   "execution_count": 2,
   "metadata": {
    "id": "_QY4vgOjyGEN"
   },
   "outputs": [
    {
     "name": "stdout",
     "output_type": "stream",
     "text": [
      "Accessing elements using positive indexing:\n",
      "1D array: 4\n",
      "2D array: 7\n",
      "3D array: 9\n"
     ]
    }
   ],
   "source": [
    "# Access elements in NumPy arrays using positive indexing\n",
    "print(\"Accessing elements using positive indexing:\")\n",
    "print(\"1D array:\", array_1d[3])  # Accessing 4th element\n",
    "print(\"2D array:\", array_2d[1, 2])  # Accessing element at row 1, column 2\n",
    "print(\"3D array:\", array_3d[1, 0, 2])  # Ac"
   ]
  },
  {
   "cell_type": "code",
   "execution_count": 3,
   "metadata": {},
   "outputs": [
    {
     "data": {
      "text/plain": [
       "array([[ 7,  8,  9],\n",
       "       [10, 11, 12]])"
      ]
     },
     "execution_count": 3,
     "metadata": {},
     "output_type": "execute_result"
    }
   ],
   "source": [
    "array_3d[1]"
   ]
  },
  {
   "cell_type": "code",
   "execution_count": 4,
   "metadata": {},
   "outputs": [
    {
     "name": "stdout",
     "output_type": "stream",
     "text": [
      "\n",
      "Performing basic arithmetic operations:\n",
      "Sum of 1D array: 55\n",
      "Sum of 2D array: 78\n",
      "Sum of 3D array: 78\n"
     ]
    }
   ],
   "source": [
    "print(\"\\nPerforming basic arithmetic operations:\")\n",
    "print(\"Sum of 1D array:\", np.sum(array_1d))\n",
    "print(\"Sum of 2D array:\", np.sum(array_2d))\n",
    "print(\"Sum of 3D array:\", np.sum(array_3d))"
   ]
  },
  {
   "cell_type": "code",
   "execution_count": 5,
   "metadata": {},
   "outputs": [
    {
     "name": "stdout",
     "output_type": "stream",
     "text": [
      "\n",
      "Accessing elements using negative indexing:\n",
      "Last element of 1D array: 10\n",
      "Second last element of 2D array: 7\n",
      "Last element of 3D array: 12\n"
     ]
    }
   ],
   "source": [
    "# Access and print elements using negative indices in all three arrays\n",
    "print(\"\\nAccessing elements using negative indexing:\")\n",
    "print(\"Last element of 1D array:\", array_1d[-1])\n",
    "print(\"Second last element of 2D array:\", array_2d[-2, -2])\n",
    "print(\"Last element of 3D array:\", array_3d[-1, -1, -1])"
   ]
  },
  {
   "cell_type": "code",
   "execution_count": 6,
   "metadata": {},
   "outputs": [
    {
     "name": "stdout",
     "output_type": "stream",
     "text": [
      "Subtraction using np.subtract(): [-4 -2  0  2  4]\n"
     ]
    }
   ],
   "source": [
    "#np.subraction\n",
    "import numpy as np\n",
    "\n",
    "# Create sample arrays\n",
    "array1 = np.array([1, 2, 3, 4, 5])\n",
    "array2 = np.array([5, 4, 3, 2, 1])\n",
    "\n",
    "# Perform subtraction using np.subtract()\n",
    "result = np.subtract(array1, array2)\n",
    "\n",
    "# Print result\n",
    "print(\"Subtraction using np.subtract():\", result)"
   ]
  },
  {
   "cell_type": "code",
   "execution_count": 7,
   "metadata": {},
   "outputs": [
    {
     "data": {
      "text/plain": [
       "array([[1., 1., 1.],\n",
       "       [1., 1., 1.],\n",
       "       [1., 1., 1.],\n",
       "       [1., 1., 1.],\n",
       "       [1., 1., 1.]])"
      ]
     },
     "execution_count": 7,
     "metadata": {},
     "output_type": "execute_result"
    }
   ],
   "source": [
    "##\n",
    "# Creating a 5 x 3 array of ones\n",
    "np.ones((5, 3))"
   ]
  },
  {
   "cell_type": "code",
   "execution_count": 8,
   "metadata": {},
   "outputs": [
    {
     "name": "stderr",
     "output_type": "stream",
     "text": [
      "C:\\Users\\DK\\anaconda3\\lib\\site-packages\\ipykernel_launcher.py:3: DeprecationWarning: `np.int` is a deprecated alias for the builtin `int`. To silence this warning, use `int` by itself. Doing this will not modify any behavior and is safe. When replacing `np.int`, you may wish to use e.g. `np.int64` or `np.int32` to specify the precision. If you wish to review your current use, check the release note link for additional information.\n",
      "Deprecated in NumPy 1.20; for more details and guidance: https://numpy.org/devdocs/release/1.20.0-notes.html#deprecations\n",
      "  This is separate from the ipykernel package so we can avoid doing imports until\n"
     ]
    },
    {
     "data": {
      "text/plain": [
       "array([[1, 1, 1],\n",
       "       [1, 1, 1],\n",
       "       [1, 1, 1],\n",
       "       [1, 1, 1],\n",
       "       [1, 1, 1]])"
      ]
     },
     "execution_count": 8,
     "metadata": {},
     "output_type": "execute_result"
    }
   ],
   "source": [
    "# Notice that, by default, numpy creates data type = float64\n",
    "# Can provide dtype explicitly using dtype\n",
    "np.ones((5, 3), dtype = np.int)"
   ]
  },
  {
   "cell_type": "code",
   "execution_count": 9,
   "metadata": {},
   "outputs": [
    {
     "name": "stderr",
     "output_type": "stream",
     "text": [
      "C:\\Users\\DK\\anaconda3\\lib\\site-packages\\ipykernel_launcher.py:2: DeprecationWarning: `np.int` is a deprecated alias for the builtin `int`. To silence this warning, use `int` by itself. Doing this will not modify any behavior and is safe. When replacing `np.int`, you may wish to use e.g. `np.int64` or `np.int32` to specify the precision. If you wish to review your current use, check the release note link for additional information.\n",
      "Deprecated in NumPy 1.20; for more details and guidance: https://numpy.org/devdocs/release/1.20.0-notes.html#deprecations\n",
      "  \n"
     ]
    },
    {
     "data": {
      "text/plain": [
       "array([0, 0, 0, 0])"
      ]
     },
     "execution_count": 9,
     "metadata": {},
     "output_type": "execute_result"
    }
   ],
   "source": [
    "# Creating array of zeros\n",
    "np.zeros(4, dtype = np.int)"
   ]
  },
  {
   "cell_type": "code",
   "execution_count": 10,
   "metadata": {},
   "outputs": [
    {
     "name": "stderr",
     "output_type": "stream",
     "text": [
      "C:\\Users\\DK\\anaconda3\\lib\\site-packages\\ipykernel_launcher.py:2: DeprecationWarning: `np.int` is a deprecated alias for the builtin `int`. To silence this warning, use `int` by itself. Doing this will not modify any behavior and is safe. When replacing `np.int`, you may wish to use e.g. `np.int64` or `np.int32` to specify the precision. If you wish to review your current use, check the release note link for additional information.\n",
      "Deprecated in NumPy 1.20; for more details and guidance: https://numpy.org/devdocs/release/1.20.0-notes.html#deprecations\n",
      "  \n"
     ]
    },
    {
     "data": {
      "text/plain": [
       "array([[0, 0],\n",
       "       [0, 0],\n",
       "       [0, 0],\n",
       "       [0, 0]])"
      ]
     },
     "execution_count": 10,
     "metadata": {},
     "output_type": "execute_result"
    }
   ],
   "source": [
    "# Creating array of zeros\n",
    "np.zeros((4,2), dtype = np.int)"
   ]
  },
  {
   "cell_type": "code",
   "execution_count": 11,
   "metadata": {},
   "outputs": [
    {
     "data": {
      "text/plain": [
       "array([[0.47078355, 0.55354743, 0.85234382, 0.29849523],\n",
       "       [0.333758  , 0.20914493, 0.17578233, 0.02764417],\n",
       "       [0.59510599, 0.32324541, 0.85630713, 0.1462356 ]])"
      ]
     },
     "execution_count": 11,
     "metadata": {},
     "output_type": "execute_result"
    }
   ],
   "source": [
    "# Array of random numbers\n",
    "np.random.random([3, 4])"
   ]
  },
  {
   "cell_type": "code",
   "execution_count": 12,
   "metadata": {},
   "outputs": [
    {
     "data": {
      "text/plain": [
       "array([[4, 4, 2, 0],\n",
       "       [3, 1, 0, 0]])"
      ]
     },
     "execution_count": 12,
     "metadata": {},
     "output_type": "execute_result"
    }
   ],
   "source": [
    "np.random.randint(5, size=(2,4))"
   ]
  },
  {
   "cell_type": "code",
   "execution_count": 13,
   "metadata": {},
   "outputs": [
    {
     "name": "stdout",
     "output_type": "stream",
     "text": [
      "[10 15 20 25 30 35 40 45 50 55 60 65 70 75 80 85 90 95]\n"
     ]
    }
   ],
   "source": [
    "# np.arange()\n",
    "# np.arange() is the numpy equivalent of range()\n",
    "# Notice that 10 is included, 100 is not, as in standard python lists\n",
    "\n",
    "# From 10 to 100 with a step of 5\n",
    "numbers = np.arange(10, 100, 5)\n",
    "print(numbers)"
   ]
  },
  {
   "cell_type": "code",
   "execution_count": 14,
   "metadata": {},
   "outputs": [
    {
     "data": {
      "text/plain": [
       "array([[7, 7, 7],\n",
       "       [7, 7, 7],\n",
       "       [7, 7, 7],\n",
       "       [7, 7, 7]])"
      ]
     },
     "execution_count": 14,
     "metadata": {},
     "output_type": "execute_result"
    }
   ],
   "source": [
    "# Creating a 4 x 3 array of 7s using np.full()\n",
    "# The default data type here is int only\n",
    "np.full((4,3), 7)"
   ]
  },
  {
   "cell_type": "code",
   "execution_count": 15,
   "metadata": {},
   "outputs": [
    {
     "name": "stdout",
     "output_type": "stream",
     "text": [
      "[0.20058084 0.5633177  0.6108342  0.67111917 0.90946314 0.91914947\n",
      " 0.69057072 0.32849375 0.45362516 0.98446739 0.79648917 0.51241153\n",
      " 0.04459819 0.852227   0.63011767 0.4899216  0.67219902 0.6377453\n",
      " 0.8207507  0.94441099 0.93234191 0.70667098 0.78875348 0.22338034\n",
      " 0.14953424 0.85738233 0.15772494 0.59564508 0.7185993  0.37487607\n",
      " 0.1166272  0.9771958  0.1528019  0.60274746 0.06243778 0.15196465\n",
      " 0.47667546 0.72878437 0.06271495 0.07996656 0.55474942 0.18582986\n",
      " 0.1219744  0.7919007  0.42655399 0.50005915 0.40311042 0.37047646\n",
      " 0.04484432 0.47690947 0.46976182 0.10138242 0.32466835 0.61352914\n",
      " 0.79643439 0.19342668 0.62762774 0.53739115 0.76757297 0.39380148\n",
      " 0.75977963 0.13469212 0.9658983  0.53911757 0.21851249 0.91333794\n",
      " 0.25805059 0.48910584 0.95662786 0.01735759 0.94342643 0.45950653\n",
      " 0.8727735  0.60289475 0.72387214 0.38274303 0.97249996 0.8579334\n",
      " 0.88493471 0.718325   0.18683171 0.90188095 0.72232693 0.00584805\n",
      " 0.22980042 0.30406018 0.62434393 0.72899628 0.52639396 0.46246926\n",
      " 0.47071538 0.1416122  0.28709244 0.78687673 0.71316974 0.18131986\n",
      " 0.78850355 0.99949034 0.83335566 0.39005486 0.13217466 0.35476959\n",
      " 0.42951061 0.87430563 0.02524583 0.05876612 0.26640919 0.58181295\n",
      " 0.84116909 0.56567354 0.73306932 0.81741302 0.24159323 0.38792293\n",
      " 0.1716041  0.64180585 0.79018518 0.56113878 0.68893295 0.14935164\n",
      " 0.61675184 0.11255652 0.83805082 0.32349364 0.56519648 0.35856486\n",
      " 0.14489906 0.24607277 0.7096803  0.09788601 0.32341685 0.3093129\n",
      " 0.77078938 0.73174094 0.18230721 0.43748005 0.7472401  0.72814861\n",
      " 0.65308962 0.11934159 0.4066931  0.32577549 0.33784169 0.53257484\n",
      " 0.2606249  0.40791811 0.21235034 0.21158831 0.11267916 0.46776578\n",
      " 0.07924343 0.19412004 0.17125752 0.79871719 0.5472887  0.35739004\n",
      " 0.63348269 0.3219628  0.08574432 0.90597117 0.51223557 0.1605745\n",
      " 0.17930691 0.99210602 0.43784999 0.9874304  0.7323843  0.58925952\n",
      " 0.13996857 0.86055929 0.69884353 0.38684239 0.77715942 0.8365519\n",
      " 0.29106384 0.85690425 0.23975328 0.23262864 0.38461748 0.71032618\n",
      " 0.10134499 0.25165628 0.50342994 0.2276514  0.35912621 0.88828432\n",
      " 0.34792578 0.58917508 0.92827752 0.40270486 0.83899116 0.19071263\n",
      " 0.30718572 0.73377497 0.73000682 0.91051204 0.03481365 0.75324579\n",
      " 0.36072333 0.66556765 0.38339482 0.75085185 0.29956771 0.80502165\n",
      " 0.26539307 0.77438099 0.95446529 0.60340786 0.76200544 0.46454135\n",
      " 0.90105764 0.624895   0.18154901 0.83232434 0.46856822 0.61583646\n",
      " 0.60201758 0.22759879 0.21181125 0.04027624 0.01070291 0.76497112\n",
      " 0.50324186 0.0157379  0.91571035 0.47501718 0.7506085  0.60296059\n",
      " 0.61217703 0.61933057 0.79510055 0.78676683 0.93589637 0.91492755\n",
      " 0.84017068 0.30631241 0.00417171 0.84937374 0.17403086 0.27493708\n",
      " 0.7503359  0.166756   0.26576111 0.60573944 0.80998866 0.85417049\n",
      " 0.32831573 0.97714335 0.81255615 0.01219591 0.25791051 0.87770148\n",
      " 0.84056712 0.10219627 0.12740394 0.22017615 0.79368343 0.19304162\n",
      " 0.39656119 0.66401564 0.69898167 0.27122576 0.78837196 0.16151825\n",
      " 0.33508774 0.59505814 0.86234363 0.4900572  0.5064825  0.80030933\n",
      " 0.48003622 0.13607032 0.01095186 0.72386107 0.47771804 0.70936412\n",
      " 0.88470944 0.62996821 0.77591758 0.8088899  0.26748063 0.92438148\n",
      " 0.33511947 0.20862885 0.49910728 0.29659461 0.97680913 0.55759875\n",
      " 0.97401713 0.3707564  0.37763648 0.24105147 0.52964441 0.4173916\n",
      " 0.09527436 0.81626027 0.65585701 0.83111592 0.28714271 0.18459069]\n"
     ]
    }
   ],
   "source": [
    "# Initialising a random 1000 x 300 array\n",
    "rand_array = np.random.random((1000, 300))\n",
    "\n",
    "# Print the second row\n",
    "print(rand_array[1, ])"
   ]
  },
  {
   "cell_type": "code",
   "execution_count": 17,
   "metadata": {},
   "outputs": [
    {
     "name": "stdout",
     "output_type": "stream",
     "text": [
      "Shape: (1000, 300)\n",
      "dtype: float64\n",
      "Dimensions: 2\n",
      "Item size: 8\n",
      "Size: 300000\n"
     ]
    }
   ],
   "source": [
    "# Inspecting shape, dtype, ndim and itemsize\n",
    "print(\"Shape: {}\".format(rand_array.shape))\n",
    "print(\"dtype: {}\".format(rand_array.dtype))\n",
    "print(\"Dimensions: {}\".format(rand_array.ndim))\n",
    "print(\"Size: {}\".format(rand_array.size))"
   ]
  },
  {
   "cell_type": "code",
   "execution_count": 20,
   "metadata": {},
   "outputs": [
    {
     "name": "stdout",
     "output_type": "stream",
     "text": [
      "Data: <memory at 0x0000022016913828>\n"
     ]
    }
   ],
   "source": [
    "print(\"Data: {}\".format(rand_array.data))\n"
   ]
  },
  {
   "cell_type": "code",
   "execution_count": 21,
   "metadata": {},
   "outputs": [
    {
     "name": "stdout",
     "output_type": "stream",
     "text": [
      "[[[ 0  1  2  3]\n",
      "  [ 4  5  6  7]\n",
      "  [ 8  9 10 11]]\n",
      "\n",
      " [[12 13 14 15]\n",
      "  [16 17 18 19]\n",
      "  [20 21 22 23]]]\n",
      "(2, 3, 4)\n"
     ]
    }
   ],
   "source": [
    "# Creating a 3-D array\n",
    "# reshape() simply reshapes a 1-D array \n",
    "array_3d = np.arange(24).reshape(2, 3, 4)\n",
    "print(array_3d)\n",
    "print(array_3d.shape)"
   ]
  },
  {
   "cell_type": "code",
   "execution_count": 22,
   "metadata": {},
   "outputs": [
    {
     "name": "stdout",
     "output_type": "stream",
     "text": [
      "[12, 30, 7, 35]\n"
     ]
    }
   ],
   "source": [
    "list_1 = [3, 6, 7, 5]\n",
    "list_2 = [4, 5, 1, 7]\n",
    "\n",
    "# the list way to do it: map a function to the two lists\n",
    "product_list = list(map(lambda x, y: x*y, list_1, list_2))\n",
    "print(product_list)"
   ]
  },
  {
   "cell_type": "code",
   "execution_count": 23,
   "metadata": {},
   "outputs": [
    {
     "name": "stdout",
     "output_type": "stream",
     "text": [
      "[12 30  7 35]\n",
      "<class 'numpy.ndarray'>\n"
     ]
    }
   ],
   "source": [
    "# The numpy array way to do it: simply multiply the two arrays\n",
    "array_1 = np.array(list_1)\n",
    "array_2 = np.array(list_2)\n",
    "\n",
    "array_3 = array_1*array_2\n",
    "print(array_3)\n",
    "print(type(array_3))"
   ]
  },
  {
   "cell_type": "code",
   "execution_count": null,
   "metadata": {},
   "outputs": [],
   "source": []
  }
 ],
 "metadata": {
  "colab": {
   "provenance": []
  },
  "kernelspec": {
   "display_name": "Python 3",
   "language": "python",
   "name": "python3"
  },
  "language_info": {
   "codemirror_mode": {
    "name": "ipython",
    "version": 3
   },
   "file_extension": ".py",
   "mimetype": "text/x-python",
   "name": "python",
   "nbconvert_exporter": "python",
   "pygments_lexer": "ipython3",
   "version": "3.7.6"
  }
 },
 "nbformat": 4,
 "nbformat_minor": 5
}
