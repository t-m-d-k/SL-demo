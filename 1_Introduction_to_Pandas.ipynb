{
 "cells": [
  {
   "cell_type": "markdown",
   "metadata": {
    "id": "3c67c867-cf82-4fe0-89d8-d0634263d9ec",
    "tags": []
   },
   "source": [
    "# **Introduction to Pandas**"
   ]
  },
  {
   "cell_type": "markdown",
   "metadata": {
    "id": "9d32a3ac-eae3-4851-812d-2326cd6823b3"
   },
   "source": [
    "## __Agenda__\n",
    "\n",
    "In this lesson, we will cover the following concepts with the help of examples:\n",
    "\n",
    "- Fundamentals of Pandas\n",
    "  * Purpose of Pandas\n",
    "  * Features of Pandas\n",
    "- Data Structures\n",
    "- Introduction to Series\n",
    "  * Creating and Accessing Pandas Series Using Different Methods\n",
    "  * Basic Information in Pandas Series\n",
    "  * Operations and Transformations in Pandas Series\n",
    "  * Querying a Series"
   ]
  },
  {
   "cell_type": "markdown",
   "metadata": {
    "id": "a385195c-3486-45c5-8ce2-5c69d5200843"
   },
   "source": [
    "## __1. Fundamentals of Pandas__"
   ]
  },
  {
   "cell_type": "markdown",
   "metadata": {
    "id": "9345fb7e-1303-4161-92d2-e9356cc75216"
   },
   "source": [
    "Pandas is an open-source library built on top of NumPy and is used for data manipulation.\n",
    "\n",
    "- It introduces data structures like DataFrame and Series that make working with structured data more efficient."
   ]
  },
  {
   "cell_type": "markdown",
   "metadata": {
    "id": "8617e603-b7e0-4013-9525-8ad7c193a8f6"
   },
   "source": [
    "![link text](https://labcontent.simplicdn.net/data-content/content-assets/Data_and_AI/ADSP_Images/Lesson_04_Working_with_Pandas/1_Introduction_to_Pandas/pandas.png)"
   ]
  },
  {
   "cell_type": "markdown",
   "metadata": {
    "id": "a1ca32fe-da8a-4c13-9ab6-4e895699fb88",
    "tags": []
   },
   "source": [
    "### __1.1 Purpose of Pandas__\n",
    "![link text](https://labcontent.simplicdn.net/data-content/content-assets/Data_and_AI/ADSP_Images/Lesson_04_Working_with_Pandas/1_Introduction_to_Pandas/Purpose_of_Pandas.png)"
   ]
  },
  {
   "cell_type": "markdown",
   "metadata": {
    "id": "770bcdf7-4b65-4c2b-99d7-58842c065608"
   },
   "source": [
    "### __1.2 Features of Pandas__\n",
    "![link text](https://labcontent.simplicdn.net/data-content/content-assets/Data_and_AI/ADSP_Images/Lesson_04_Working_with_Pandas/1_Introduction_to_Pandas/Features_of_Pandas.png)\n",
    "\n",
    "\n"
   ]
  },
  {
   "cell_type": "markdown",
   "metadata": {
    "id": "dd88be0c-036f-49f8-bc15-4af597337643"
   },
   "source": [
    "## __2. Data Structures__\n",
    "The two main libraries of Pandas data structure are:\n",
    "![link text](https://labcontent.simplicdn.net/data-content/content-assets/Data_and_AI/ADSP_Images/Lesson_04_Working_with_Pandas/1_Introduction_to_Pandas/Data_Structures.png)"
   ]
  },
  {
   "cell_type": "markdown",
   "metadata": {
    "id": "b8d01907-9582-40fd-917c-e9e75eab6366",
    "tags": []
   },
   "source": [
    "## __3. Introduction to Series__\n",
    "A Series is a one-dimensional array-like object containing data and labels or index.\n",
    "\n",
    "It can be created with different data inputs:\n",
    "![link text](https://labcontent.simplicdn.net/data-content/content-assets/Data_and_AI/ADSP_Images/Lesson_04_Working_with_Pandas/1_Introduction_to_Pandas/Introduction_to_Series.png)"
   ]
  },
  {
   "cell_type": "markdown",
   "metadata": {
    "id": "28a48d44-ce86-4c0d-a727-da25f8b42807",
    "tags": []
   },
   "source": [
    "### __3.1 Creating and Accessing Pandas Series Using Different Methods:__"
   ]
  },
  {
   "cell_type": "code",
   "execution_count": 1,
   "metadata": {
    "id": "b8aee64c-fb77-4a00-abfd-7a9ff29a2b6a",
    "outputId": "ff2670f3-fca3-4911-bc70-432ad36926ca"
   },
   "outputs": [
    {
     "name": "stdout",
     "output_type": "stream",
     "text": [
      "3\n",
      "2\n"
     ]
    }
   ],
   "source": [
    "import pandas as pd\n",
    "\n",
    "# Creating a Pandas Series from a list\n",
    "data = [1, 2, 3, 4, 5]\n",
    "series = pd.Series(data)\n",
    "\n",
    "# Creating a Pandas Series with a specified index\n",
    "index = ['a', 'b', 'c', 'd', 'e']\n",
    "series_with_index = pd.Series(data, index=index)\n",
    "\n",
    "# Creating a Pandas Series from a dictionary\n",
    "data_dict = {'a': 1, 'b': 2, 'c': 3, 'd': 4, 'e': 5}\n",
    "series_from_dict = pd.Series(data_dict)\n",
    "\n",
    "# Accessing data in a Series\n",
    "print(series[2])  # Accessing element at index 2\n",
    "print(series_with_index['b'])  # Accessing element with index 'b'"
   ]
  },
  {
   "cell_type": "markdown",
   "metadata": {
    "id": "60772331-3d1f-442d-8d6e-91263a8e8d9f"
   },
   "source": [
    "### __3.2 Basic Information in Pandas Series__\n",
    "These functions collectively help analysts summarize and understand the characteristics of the data, facilitating effective data exploration and analysis."
   ]
  },
  {
   "cell_type": "code",
   "execution_count": 2,
   "metadata": {
    "id": "a471e39a-64fd-4f8f-9b49-185680e8feec"
   },
   "outputs": [],
   "source": [
    "# Return the first n rows\n",
    "first_n_rows = series.head(3)\n",
    "\n",
    "# Return the last n rows\n",
    "last_n_rows = series.tail(3)\n",
    "\n",
    "# Return dimensions (Rows, columns)\n",
    "dimensions = series.shape\n",
    "\n",
    "# Generate descriptive statistics\n",
    "stats = series.describe()\n",
    "\n",
    "# Return unique values\n",
    "unique_values = series.unique()\n",
    "\n",
    "# Return the number of unique values\n",
    "num_unique_values = series.nunique()"
   ]
  },
  {
   "cell_type": "markdown",
   "metadata": {
    "id": "1a1a87d2-e7ce-41fb-87c9-7670bf341fce"
   },
   "source": [
    "### __3.3 Operations and Transformations in Pandas Series__\n",
    "Operations and transformations in Pandas Series are crucial for modifying, enhancing, and cleaning data effectively.\n",
    "\n",
    "They provide flexibility to adapt data to specific analyses or visualizations, preparing it for meaningful insights and ensuring data quality."
   ]
  },
  {
   "cell_type": "code",
   "execution_count": null,
   "metadata": {
    "id": "542ea8d7-66fd-4fbb-9785-ae12f21aa41c"
   },
   "outputs": [],
   "source": [
    "# Element-wise addition\n",
    "result_series = series + series_with_index\n",
    "\n",
    "# Apply a function to each element\n",
    "squared_series = series.apply(lambda x: x**2)\n",
    "\n",
    "# Map values using a dictionary\n",
    "mapped_series = series.map({1: 'one', 2: 'two', 3: 'three'})\n",
    "\n",
    "# Sort the Series by values\n",
    "sorted_series = series.sort_values()\n",
    "\n",
    "# Check for missing values\n",
    "missing_values = series.isnull()\n",
    "\n",
    "# Fill missing values with a specified value\n",
    "filled_series = series.fillna(0)"
   ]
  },
  {
   "cell_type": "markdown",
   "metadata": {
    "id": "121da6d4-b523-49dd-8bb0-0e9c14a04a69"
   },
   "source": [
    "### __3.4 Querying a Series__\n",
    "Selecting and filtering data based on specific conditions is an essential aspect of querying a Pandas Series.\n",
    "\n",
    "The following examples illustrate common querying operations that can be applied to a Pandas Series:"
   ]
  },
  {
   "cell_type": "code",
   "execution_count": null,
   "metadata": {
    "id": "49037fe5-0fbf-4ddc-961b-348affd39867",
    "outputId": "01f56920-257e-4d0e-dd42-7e297f589e32"
   },
   "outputs": [
    {
     "name": "stdout",
     "output_type": "stream",
     "text": [
      "Original Series:\n",
      "a    10\n",
      "b    20\n",
      "c    30\n",
      "d    40\n",
      "e    50\n",
      "dtype: int64\n",
      "\n",
      "Selected greater than 30:\n",
      "d    40\n",
      "e    50\n",
      "dtype: int64\n",
      "\n",
      "Selected equal To 20:\n",
      "b    20\n",
      "dtype: int64\n",
      "\n",
      "Selected not equal to 40:\n",
      "a    10\n",
      "b    20\n",
      "c    30\n",
      "e    50\n",
      "dtype: int64\n",
      "\n",
      "Selected based on multiple conditions:\n",
      "c    30\n",
      "d    40\n",
      "dtype: int64\n",
      "\n",
      "Selected based on list of values:\n",
      "b    20\n",
      "d    40\n",
      "dtype: int64\n",
      "\n",
      "Selected based on string method (startswith):\n",
      "1    banana\n",
      "dtype: object\n",
      "\n",
      "Selected based on index labels:\n",
      "a    10\n",
      "c    30\n",
      "e    50\n",
      "dtype: int64\n",
      "\n",
      "Selected based on numeric position:\n",
      "b    20\n",
      "c    30\n",
      "d    40\n",
      "dtype: int64\n"
     ]
    }
   ],
   "source": [
    "import pandas as pd\n",
    "\n",
    "# Create a Pandas Series\n",
    "data = {'a': 10, 'b': 20, 'c': 30, 'd': 40, 'e': 50}\n",
    "series = pd.Series(data)\n",
    "\n",
    "# Select elements greater than 30\n",
    "selected_greater_than_30 = series[series > 30]\n",
    "\n",
    "# Select elements equal to 20\n",
    "selected_equal_to_20 = series[series == 20]\n",
    "\n",
    "# Select elements not equal to 40\n",
    "selected_not_equal_to_40 = series[series != 40]\n",
    "\n",
    "# Select elements based on multiple conditions\n",
    "selected_multiple_conditions = series[(series > 20) & (series < 50)]\n",
    "\n",
    "# Select elements based on a list of values\n",
    "selected_by_list = series[series.isin([20, 40, 60])]\n",
    "\n",
    "# Select elements using string methods (if applicable)\n",
    "string_series = pd.Series(['apple', 'banana', 'cherry', 'date', 'elderberry'])\n",
    "selected_by_string_method = string_series[string_series.str.startswith('b')]\n",
    "\n",
    "# Query based on index labels\n",
    "selected_by_index_labels = series.loc[['a', 'c', 'e']]\n",
    "\n",
    "# Query based on numeric position\n",
    "selected_by_numeric_position = series.iloc[1:4]\n",
    "\n",
    "# Display the results\n",
    "print(\"Original Series:\")\n",
    "print(series)\n",
    "print(\"\\nSelected greater than 30:\")\n",
    "print(selected_greater_than_30)\n",
    "print(\"\\nSelected equal To 20:\")\n",
    "print(selected_equal_to_20)\n",
    "print(\"\\nSelected not equal to 40:\")\n",
    "print(selected_not_equal_to_40)\n",
    "print(\"\\nSelected based on multiple conditions:\")\n",
    "print(selected_multiple_conditions)\n",
    "print(\"\\nSelected based on list of values:\")\n",
    "print(selected_by_list)\n",
    "print(\"\\nSelected based on string method (startswith):\")\n",
    "print(selected_by_string_method)\n",
    "print(\"\\nSelected based on index labels:\")\n",
    "print(selected_by_index_labels)\n",
    "print(\"\\nSelected based on numeric position:\")\n",
    "print(selected_by_numeric_position)"
   ]
  },
  {
   "cell_type": "markdown",
   "metadata": {
    "id": "e3ddd0e9-7811-4789-837b-97d990a6cda3"
   },
   "source": [
    "# __Assisted Practice__"
   ]
  },
  {
   "cell_type": "markdown",
   "metadata": {
    "id": "9e883c5a-f17e-4288-9974-5989e4a41280"
   },
   "source": [
    "## __Problem Statement:__\n",
    "Use Pandas Series to analyze sales data for a retail store over a week and draw insights from the data."
   ]
  },
  {
   "cell_type": "markdown",
   "metadata": {
    "id": "5ae30417-d7c6-46b5-a759-ef31abd7b50f"
   },
   "source": [
    "### __Dataset:__\n",
    "__Sample sales data__\n",
    "\n",
    "sales_data = [120, 150, 130, 170, 160, 180, 140]\n",
    "\n",
    "days_of_week = ['Monday', 'Tuesday', 'Wednesday', 'Thursday', 'Friday', 'Saturday', 'Sunday']"
   ]
  },
  {
   "cell_type": "markdown",
   "metadata": {
    "id": "5314d501-3cd9-4e86-8861-cbf71a0a3a51"
   },
   "source": [
    "## __Steps to Perform__\n",
    "\n",
    "1. Create a Pandas Series for sales data\n",
    "- Use a list of daily sales figures to create a Pandas Series\n",
    "- Assign days of the week as the index\n",
    "2. Access and manipulate sales data\n",
    "- Access sales data for specific days using index labels\n",
    "- Calculate total sales for the week\n",
    "- Identify the day with the highest and lowest sales\n",
    "   \n",
    "3. Basic analysis of sales data\n",
    "- Calculate the average sales for the week\n",
    "- Determine any days with sales figures significantly different from the average"
   ]
  },
  {
   "cell_type": "code",
   "execution_count": null,
   "metadata": {
    "id": "81991eb5-51c2-4bb3-a900-9136e975970a"
   },
   "outputs": [],
   "source": []
  }
 ],
 "metadata": {
  "colab": {
   "provenance": []
  },
  "kernelspec": {
   "display_name": "Python 3",
   "language": "python",
   "name": "python3"
  },
  "language_info": {
   "codemirror_mode": {
    "name": "ipython",
    "version": 3
   },
   "file_extension": ".py",
   "mimetype": "text/x-python",
   "name": "python",
   "nbconvert_exporter": "python",
   "pygments_lexer": "ipython3",
   "version": "3.7.6"
  }
 },
 "nbformat": 4,
 "nbformat_minor": 5
}
